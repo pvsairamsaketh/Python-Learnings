{
 "cells": [
  {
   "cell_type": "code",
   "execution_count": 1,
   "id": "e9ae6b3a",
   "metadata": {},
   "outputs": [
    {
     "name": "stdout",
     "output_type": "stream",
     "text": [
      "[1 2 3 4 5]\n",
      "<class 'numpy.ndarray'>\n"
     ]
    }
   ],
   "source": [
    "import numpy\n",
    "arr=numpy.array([1,2,3,4,5])\n",
    "print(arr)\n",
    "print(type(arr))"
   ]
  },
  {
   "cell_type": "code",
   "execution_count": null,
   "id": "04f5d394",
   "metadata": {},
   "outputs": [
    {
     "ename": "",
     "evalue": "",
     "output_type": "error",
     "traceback": [
      "\u001b[1;31mRunning cells with 'c:\\Python311\\python.exe' requires the ipykernel package.\n",
      "\u001b[1;31mRun the following command to install 'ipykernel' into the Python environment. \n",
      "\u001b[1;31mCommand: 'c:/Python311/python.exe -m pip install ipykernel -U --user --force-reinstall'"
     ]
    }
   ],
   "source": [
    "import numpy as np\n",
    "var=np.array([1,2,3,4,5])\n",
    "print(var)\n",
    "print(type(var))"
   ]
  },
  {
   "cell_type": "markdown",
   "id": "8819c7a2",
   "metadata": {},
   "source": [
    "# checking numpy version"
   ]
  },
  {
   "cell_type": "code",
   "execution_count": 4,
   "id": "70eb5cc9",
   "metadata": {},
   "outputs": [
    {
     "name": "stdout",
     "output_type": "stream",
     "text": [
      "1.21.5\n"
     ]
    }
   ],
   "source": [
    "import numpy as np\n",
    "print(np.__version__)"
   ]
  },
  {
   "cell_type": "markdown",
   "id": "1e0a3737",
   "metadata": {},
   "source": [
    "# to find time of particular operation"
   ]
  },
  {
   "cell_type": "code",
   "execution_count": 8,
   "id": "80542b9f",
   "metadata": {},
   "outputs": [
    {
     "name": "stdout",
     "output_type": "stream",
     "text": [
      "1.46 µs ± 46.1 ns per loop (mean ± std. dev. of 7 runs, 1000000 loops each)\n"
     ]
    }
   ],
   "source": [
    "%timeit np.arange(1,9)**4"
   ]
  },
  {
   "cell_type": "markdown",
   "id": "b1d69a01",
   "metadata": {},
   "source": [
    "# creating of numpy array"
   ]
  },
  {
   "cell_type": "code",
   "execution_count": 9,
   "id": "1294584c",
   "metadata": {},
   "outputs": [
    {
     "name": "stdout",
     "output_type": "stream",
     "text": [
      "[1 2 3]\n"
     ]
    }
   ],
   "source": [
    "import numpy as np\n",
    "var=np.array([1,2,3])\n",
    "print(var)"
   ]
  },
  {
   "cell_type": "markdown",
   "id": "5f169d35",
   "metadata": {},
   "source": [
    "# to convert list into numpy array"
   ]
  },
  {
   "cell_type": "code",
   "execution_count": 10,
   "id": "25abe12b",
   "metadata": {},
   "outputs": [
    {
     "name": "stdout",
     "output_type": "stream",
     "text": [
      "[1, 2, 3, 4]\n",
      "<class 'list'>\n",
      "[1 2 3 4]\n",
      "<class 'numpy.ndarray'>\n"
     ]
    }
   ],
   "source": [
    "import numpy as np\n",
    "x=[1,2,3,4]\n",
    "print(x)\n",
    "print(type(x))\n",
    "y=np.array(x)\n",
    "print(y)\n",
    "print(type(y))"
   ]
  },
  {
   "cell_type": "code",
   "execution_count": 11,
   "id": "5df14007",
   "metadata": {},
   "outputs": [
    {
     "name": "stdout",
     "output_type": "stream",
     "text": [
      "enter value :12\n",
      "enter value :14\n",
      "enter value :15\n",
      "enter value :16\n",
      "[12, 14, 15, 16]\n"
     ]
    }
   ],
   "source": [
    "#if user want to enter the value\n",
    "l=[]\n",
    "for i in range(1,5):\n",
    "    var1=int(input(\"enter value :\"))\n",
    "    l.append(var1)\n",
    "print(l)"
   ]
  },
  {
   "cell_type": "markdown",
   "id": "b6dc7033",
   "metadata": {},
   "source": [
    "# 0-D arrays"
   ]
  },
  {
   "cell_type": "code",
   "execution_count": 12,
   "id": "66cef94d",
   "metadata": {},
   "outputs": [
    {
     "name": "stdout",
     "output_type": "stream",
     "text": [
      "42\n",
      "<class 'numpy.ndarray'>\n"
     ]
    }
   ],
   "source": [
    "var=np.array(42)\n",
    "print(var)\n",
    "print(type(var))"
   ]
  },
  {
   "cell_type": "markdown",
   "id": "5b84a2c4",
   "metadata": {},
   "source": [
    "# 1-D arrays"
   ]
  },
  {
   "cell_type": "code",
   "execution_count": 13,
   "id": "a1fdb2b3",
   "metadata": {},
   "outputs": [
    {
     "name": "stdout",
     "output_type": "stream",
     "text": [
      "[42]\n",
      "<class 'numpy.ndarray'>\n"
     ]
    }
   ],
   "source": [
    "var=np.array([42])\n",
    "print(var)\n",
    "print(type(var))"
   ]
  },
  {
   "cell_type": "markdown",
   "id": "34f4df65",
   "metadata": {},
   "source": [
    "# 2-D arrays"
   ]
  },
  {
   "cell_type": "code",
   "execution_count": 18,
   "id": "d188f622",
   "metadata": {},
   "outputs": [
    {
     "name": "stdout",
     "output_type": "stream",
     "text": [
      "[[12 24]\n",
      " [36 48]]\n",
      "\n",
      "[[12 24]]\n",
      "<class 'numpy.ndarray'>\n"
     ]
    }
   ],
   "source": [
    "var1=np.array([[12,24]])\n",
    "var=np.array([[12,24],[36,48]])\n",
    "print(var)\n",
    "print()\n",
    "print(var1)\n",
    "print(type(var1))"
   ]
  },
  {
   "cell_type": "markdown",
   "id": "edd1cba0",
   "metadata": {},
   "source": [
    "# 3-D arrays"
   ]
  },
  {
   "cell_type": "code",
   "execution_count": 19,
   "id": "d45b41fa",
   "metadata": {},
   "outputs": [
    {
     "name": "stdout",
     "output_type": "stream",
     "text": [
      "[[[1 2 3]\n",
      "  [4 5 6]]]\n",
      "<class 'numpy.ndarray'>\n"
     ]
    }
   ],
   "source": [
    "var2=np.array([[[1,2,3],[4,5,6]]])\n",
    "print(var2)\n",
    "print(type(var2))"
   ]
  },
  {
   "cell_type": "markdown",
   "id": "f7b9ae53",
   "metadata": {},
   "source": [
    "# check number of dimensions"
   ]
  },
  {
   "cell_type": "code",
   "execution_count": 20,
   "id": "a9fafcf6",
   "metadata": {},
   "outputs": [
    {
     "name": "stdout",
     "output_type": "stream",
     "text": [
      "0\n",
      "1\n",
      "2\n",
      "3\n",
      "9\n"
     ]
    }
   ],
   "source": [
    "#to check number of dimensions use ndim\n",
    "a=np.array(77)\n",
    "b=np.array([12])\n",
    "c=np.array([[14]])\n",
    "d=np.array([[[99]]])\n",
    "e=np.array([[[[[[[[[1999]]]]]]]]])\n",
    "print(a.ndim)\n",
    "print(b.ndim)\n",
    "print(c.ndim)\n",
    "print(d.ndim)\n",
    "print(e.ndim)\n"
   ]
  },
  {
   "cell_type": "markdown",
   "id": "535a295a",
   "metadata": {},
   "source": [
    "# higher dimension array"
   ]
  },
  {
   "cell_type": "code",
   "execution_count": 23,
   "id": "bb6c2543",
   "metadata": {},
   "outputs": [
    {
     "name": "stdout",
     "output_type": "stream",
     "text": [
      "[[[[[[[[[[[[[[[[[[[[[[[[[[[[[[1 2 3 4 5]]]]]]]]]]]]]]]]]]]]]]]]]]]]]]\n",
      "no of dimensions : 30\n"
     ]
    }
   ],
   "source": [
    "#for higher dimension array use ndmin\n",
    "import numpy as np\n",
    "var=np.array([1,2,3,4,5],ndmin=30)\n",
    "print(var)\n",
    "print(\"no of dimensions :\",var.ndim)"
   ]
  },
  {
   "cell_type": "markdown",
   "id": "88a07edc",
   "metadata": {},
   "source": [
    "# special numpy array"
   ]
  },
  {
   "cell_type": "markdown",
   "id": "405912d3",
   "metadata": {},
   "source": [
    "# array filled with zero"
   ]
  },
  {
   "cell_type": "code",
   "execution_count": 26,
   "id": "6fd6971b",
   "metadata": {},
   "outputs": [
    {
     "name": "stdout",
     "output_type": "stream",
     "text": [
      "[0. 0. 0. 0.]\n"
     ]
    }
   ],
   "source": [
    "#for arrays filled with zeros()\n",
    "import numpy as np\n",
    "arzero=np.zeros(4)\n",
    "print(arzero)"
   ]
  },
  {
   "cell_type": "markdown",
   "id": "86df492c",
   "metadata": {},
   "source": [
    "# arrays filled with ones"
   ]
  },
  {
   "cell_type": "code",
   "execution_count": 27,
   "id": "bfb7d3e4",
   "metadata": {},
   "outputs": [
    {
     "name": "stdout",
     "output_type": "stream",
     "text": [
      "[1. 1. 1. 1.]\n"
     ]
    }
   ],
   "source": [
    "#for arrays filled with ones()\n",
    "import numpy as np\n",
    "arone=np.ones(4)\n",
    "print(arone)"
   ]
  },
  {
   "cell_type": "markdown",
   "id": "4fabae73",
   "metadata": {},
   "source": [
    "# create empty arrays"
   ]
  },
  {
   "cell_type": "code",
   "execution_count": 28,
   "id": "32e605f8",
   "metadata": {},
   "outputs": [
    {
     "name": "stdout",
     "output_type": "stream",
     "text": [
      "[0. 0. 0. 0. 0. 0.]\n"
     ]
    }
   ],
   "source": [
    "#for arrays filled with empty use empty()\n",
    "import numpy as np\n",
    "arempty=np.empty(6)\n",
    "print(arempty)"
   ]
  },
  {
   "cell_type": "markdown",
   "id": "ff686cda",
   "metadata": {},
   "source": [
    "# an array with range of elements"
   ]
  },
  {
   "cell_type": "code",
   "execution_count": 30,
   "id": "24cffb69",
   "metadata": {},
   "outputs": [
    {
     "name": "stdout",
     "output_type": "stream",
     "text": [
      "[0 1 2 3]\n",
      "[1 2 3 4 5 6 7 8 9]\n"
     ]
    }
   ],
   "source": [
    "arrange=np.arange(4)\n",
    "print(arrange)\n",
    "arrange1=np.arange(1,10)\n",
    "print(arrange1)"
   ]
  },
  {
   "cell_type": "markdown",
   "id": "6f1df459",
   "metadata": {},
   "source": [
    "# array diagonal elements"
   ]
  },
  {
   "cell_type": "code",
   "execution_count": 31,
   "id": "8918b37d",
   "metadata": {},
   "outputs": [
    {
     "name": "stdout",
     "output_type": "stream",
     "text": [
      "[[1. 0. 0.]\n",
      " [0. 1. 0.]\n",
      " [0. 0. 1.]]\n",
      "[[1. 0. 0. 0. 0. 0. 0. 0. 0. 0.]\n",
      " [0. 1. 0. 0. 0. 0. 0. 0. 0. 0.]\n",
      " [0. 0. 1. 0. 0. 0. 0. 0. 0. 0.]]\n"
     ]
    }
   ],
   "source": [
    "ardiagonal=np.eye(3)\n",
    "print(ardiagonal)\n",
    "ardia=np.eye(3,10)\n",
    "print(ardia)"
   ]
  },
  {
   "cell_type": "markdown",
   "id": "774564a3",
   "metadata": {},
   "source": [
    "# create array using special interval"
   ]
  },
  {
   "cell_type": "code",
   "execution_count": 34,
   "id": "6d6f26d8",
   "metadata": {},
   "outputs": [
    {
     "name": "stdout",
     "output_type": "stream",
     "text": [
      "[ 0.   2.5  5.   7.5 10. ]\n"
     ]
    }
   ],
   "source": [
    "#use linspace using special interval\n",
    "ar_lin=np.linspace(0,10,num=5)\n",
    "print(ar_lin)"
   ]
  },
  {
   "cell_type": "markdown",
   "id": "791d37c6",
   "metadata": {},
   "source": [
    "# create numpy arrays using random numbers"
   ]
  },
  {
   "cell_type": "code",
   "execution_count": 39,
   "id": "9ae45096",
   "metadata": {},
   "outputs": [
    {
     "name": "stdout",
     "output_type": "stream",
     "text": [
      "[[0.60024125]\n",
      " [0.95008228]\n",
      " [0.26106312]]\n"
     ]
    }
   ],
   "source": [
    "#1)rand()- used to generate random values between 0 to 1\n",
    "import numpy as np\n",
    "var=np.random.rand(3,1)# here 3 represents row and 1 represents columns\n",
    "print(var)"
   ]
  },
  {
   "cell_type": "code",
   "execution_count": 41,
   "id": "a796fefd",
   "metadata": {},
   "outputs": [
    {
     "name": "stdout",
     "output_type": "stream",
     "text": [
      "[ 0.81342286  0.46742435  1.26196317 -1.79881509  1.39592163]\n"
     ]
    }
   ],
   "source": [
    "#2)randn() - used to generate random value to 0,it can be +ve,-ve,zero\n",
    "import numpy as np\n",
    "var1=np.random.randn(5)\n",
    "print(var1)"
   ]
  },
  {
   "cell_type": "code",
   "execution_count": 44,
   "id": "99be1e01",
   "metadata": {},
   "outputs": [
    {
     "name": "stdout",
     "output_type": "stream",
     "text": [
      "[0.58992851 0.80854232 0.06873344 0.01500715 0.62406794 0.67639616]\n"
     ]
    }
   ],
   "source": [
    "#3)ranf() - the function for doing sample in numpy . [0.0,1.0) #here 0.0 is included 1.0 is  not included\n",
    "import numpy as np\n",
    "var2=np.random.ranf(6)\n",
    "print(var2)\n"
   ]
  },
  {
   "cell_type": "code",
   "execution_count": 47,
   "id": "7946d21d",
   "metadata": {},
   "outputs": [
    {
     "name": "stdout",
     "output_type": "stream",
     "text": [
      "[ 9 12  6 13 18]\n"
     ]
    }
   ],
   "source": [
    "#4)randint-used to generate random numbers between given range\n",
    "var=np.random.randint(5,20,5)\n",
    "print(var)"
   ]
  },
  {
   "cell_type": "markdown",
   "id": "b49981ea",
   "metadata": {},
   "source": [
    "# datatypes in numpy array"
   ]
  },
  {
   "cell_type": "code",
   "execution_count": 54,
   "id": "04619cf8",
   "metadata": {},
   "outputs": [
    {
     "name": "stdout",
     "output_type": "stream",
     "text": [
      "datatype : int32\n",
      "datatype : float64\n",
      "datatype : <U1\n",
      "datatype : <U11\n",
      "datatype : <U32\n"
     ]
    }
   ],
   "source": [
    "#to find datatype use dtype\n",
    "import numpy as np\n",
    "var=np.array([1,2,3,4,5])\n",
    "print(\"datatype :\",var.dtype)\n",
    "var1=np.array([1.0,2.0,3.0,4.0])\n",
    "print(\"datatype :\",var1.dtype)\n",
    "var2=np.array([\"A\",\"B\",\"C\"])\n",
    "print(\"datatype :\",var2.dtype)\n",
    "var3=np.array([\"A\",\"E\",\"I\",1,2,3,4])\n",
    "print(\"datatype :\",var3.dtype)\n",
    "var4=np.array([\"a\",\"e\",\"i\",1,2,3,4,1.0,2.0,3.0])\n",
    "print(\"datatype :\",var4.dtype)\n"
   ]
  },
  {
   "cell_type": "markdown",
   "id": "23294ec6",
   "metadata": {},
   "source": [
    "# convert 1 array datatype into other datatype"
   ]
  },
  {
   "cell_type": "code",
   "execution_count": 56,
   "id": "f8cb334e",
   "metadata": {},
   "outputs": [
    {
     "name": "stdout",
     "output_type": "stream",
     "text": [
      "[1 2 3 4 5]\n",
      "datatype : int32\n",
      "\n",
      "[1 2 3 4 5]\n",
      "datatype : int8\n"
     ]
    }
   ],
   "source": [
    "x=np.array([1,2,3,4,5])\n",
    "print(x)\n",
    "print(\"datatype :\",x.dtype)\n",
    "print()\n",
    "#to convert int32 to int 8\n",
    "x=np.array([1,2,3,4,5],dtype=np.int8)\n",
    "print(x)\n",
    "print(\"datatype :\",x.dtype)"
   ]
  },
  {
   "cell_type": "code",
   "execution_count": 57,
   "id": "7930f213",
   "metadata": {},
   "outputs": [
    {
     "name": "stdout",
     "output_type": "stream",
     "text": [
      "[1 2 3 4 5]\n",
      "<class 'numpy.ndarray'>\n",
      "[1. 2. 3. 4. 5.]\n"
     ]
    }
   ],
   "source": [
    "#to convert int to float\n",
    "x=np.array([1,2,3,4,5])\n",
    "print(x)\n",
    "print(type(x))\n",
    "x1=np.array([1,2,3,4,5],dtype=\"f\")\n",
    "print(x1)"
   ]
  },
  {
   "cell_type": "code",
   "execution_count": 59,
   "id": "dafb436f",
   "metadata": {},
   "outputs": [
    {
     "name": "stdout",
     "output_type": "stream",
     "text": [
      "Datatype : int32\n",
      "[1 2 3 4]\n",
      "Datatype : float32\n",
      "[1. 2. 3. 4.]\n"
     ]
    }
   ],
   "source": [
    "#using datatype as function convert int to float\n",
    "x2=np.array([1,2,3,4])\n",
    "new=np.float32(x2)\n",
    "print(\"Datatype :\",x2.dtype)\n",
    "print(x2)\n",
    "print(\"Datatype :\",new.dtype)\n",
    "print(new)"
   ]
  },
  {
   "cell_type": "markdown",
   "id": "f47536a7",
   "metadata": {},
   "source": [
    "# directly convertion for 1 datatype to other "
   ]
  },
  {
   "cell_type": "code",
   "execution_count": 60,
   "id": "7a23a9a8",
   "metadata": {},
   "outputs": [
    {
     "name": "stdout",
     "output_type": "stream",
     "text": [
      "[1 2 3 4 5]\n",
      "<class 'numpy.ndarray'>\n",
      "[1. 2. 3. 4. 5.]\n",
      "<class 'numpy.ndarray'>\n"
     ]
    }
   ],
   "source": [
    "x2=np.array([1,2,3,4,5])\n",
    "new1=x2.astype(float)\n",
    "print(x2)\n",
    "print(type(x2))\n",
    "print(new1)\n",
    "print(type(new1))"
   ]
  },
  {
   "cell_type": "markdown",
   "id": "a04dea42",
   "metadata": {},
   "source": [
    "# shape"
   ]
  },
  {
   "cell_type": "code",
   "execution_count": 64,
   "id": "c9b3aad5",
   "metadata": {},
   "outputs": [
    {
     "name": "stdout",
     "output_type": "stream",
     "text": [
      "[[1 2]\n",
      " [1 2]]\n",
      "(2, 2)\n",
      "\n",
      "[[1 2 3 4]\n",
      " [5 6 7 8]]\n",
      "(2, 4)\n"
     ]
    }
   ],
   "source": [
    "#use shape()\n",
    "var=np.array([[1,2],[1,2]])\n",
    "print(var)\n",
    "print(var.shape)\n",
    "print()\n",
    "var1=np.array([[1,2,3,4],[5,6,7,8]])\n",
    "print(var1)\n",
    "print(var1.shape)"
   ]
  },
  {
   "cell_type": "code",
   "execution_count": 65,
   "id": "82ac877a",
   "metadata": {},
   "outputs": [
    {
     "name": "stdout",
     "output_type": "stream",
     "text": [
      "[[[[[[1 2 3 4]]]]]]\n",
      "6\n",
      "\n",
      "(1, 1, 1, 1, 1, 4)\n"
     ]
    }
   ],
   "source": [
    "#for multidimensional array\n",
    "var1=np.array([1,2,3,4],ndmin=6)\n",
    "print(var1)\n",
    "print(var1.ndim)\n",
    "print()\n",
    "print(var1.shape)"
   ]
  },
  {
   "cell_type": "markdown",
   "id": "6fc570c0",
   "metadata": {},
   "source": [
    "# Reshape"
   ]
  },
  {
   "cell_type": "code",
   "execution_count": 70,
   "id": "4d2b187b",
   "metadata": {},
   "outputs": [],
   "source": [
    "#changing shape of numpy array\n",
    "#reshape(no of rows,no of columns)\n"
   ]
  },
  {
   "cell_type": "markdown",
   "id": "a7a61405",
   "metadata": {},
   "source": [
    "# reshape of 1d to 2d array"
   ]
  },
  {
   "cell_type": "code",
   "execution_count": 74,
   "id": "b1e0c235",
   "metadata": {},
   "outputs": [
    {
     "name": "stdout",
     "output_type": "stream",
     "text": [
      "[ 1  2  3  4  5  6  7  8  9 10 11 12]\n",
      "\n",
      "[[ 1  2  3]\n",
      " [ 4  5  6]\n",
      " [ 7  8  9]\n",
      " [10 11 12]]\n",
      "\n",
      "[[ 1  2  3  4]\n",
      " [ 5  6  7  8]\n",
      " [ 9 10 11 12]]\n"
     ]
    }
   ],
   "source": [
    "import numpy as np\n",
    "var=np.array([1,2,3,4,5,6,7,8,9,10,11,12])\n",
    "print(var)\n",
    "print()\n",
    "new=var.reshape(4,3)\n",
    "print(new)\n",
    "print()\n",
    "new1=var.reshape(3,4)\n",
    "print(new1)"
   ]
  },
  {
   "cell_type": "markdown",
   "id": "db523d38",
   "metadata": {},
   "source": [
    "# reshape of 1d to 3d array"
   ]
  },
  {
   "cell_type": "code",
   "execution_count": 77,
   "id": "b5b98e23",
   "metadata": {},
   "outputs": [
    {
     "name": "stdout",
     "output_type": "stream",
     "text": [
      "[ 1  2  3  4  5  6  7  8  9 10 11 12]\n",
      "\n",
      "[[[ 1  2]\n",
      "  [ 3  4]\n",
      "  [ 5  6]]\n",
      "\n",
      " [[ 7  8]\n",
      "  [ 9 10]\n",
      "  [11 12]]]\n",
      "\n",
      "[[[ 1  2]\n",
      "  [ 3  4]]\n",
      "\n",
      " [[ 5  6]\n",
      "  [ 7  8]]\n",
      "\n",
      " [[ 9 10]\n",
      "  [11 12]]]\n"
     ]
    }
   ],
   "source": [
    "import numpy as np\n",
    "var=np.array([1,2,3,4,5,6,7,8,9,10,11,12])\n",
    "print(var)\n",
    "print()\n",
    "#1d to 3d\n",
    "new=var.reshape(2,3,2)\n",
    "print(new)\n",
    "print()\n",
    "# 1d to 2d\n",
    "new1=var.reshape(3,2,2)\n",
    "print(new1)"
   ]
  },
  {
   "cell_type": "markdown",
   "id": "83c5a29a",
   "metadata": {},
   "source": [
    "# flattering an array"
   ]
  },
  {
   "cell_type": "code",
   "execution_count": 80,
   "id": "251e300b",
   "metadata": {},
   "outputs": [
    {
     "name": "stdout",
     "output_type": "stream",
     "text": [
      "[[[1 2 3]\n",
      "  [4 5 6]]]\n",
      "\n",
      "[1 2 3 4 5 6]\n",
      "\n",
      "[[[[[[[[[[[[[[[[[[[[[[[[[[[[[[[1 2 3 4 5]]]]]]]]]]]]]]]]]]]]]]]]]]]]]]]\n",
      "\n",
      "[1 2 3 4 5]\n"
     ]
    }
   ],
   "source": [
    "#converting multidimensional array into 1 d array\n",
    "import numpy as np\n",
    "var=np.array([[[1,2,3],[4,5,6]]])\n",
    "print(var)\n",
    "print()\n",
    "new=var.reshape(-1)\n",
    "print(new)\n",
    "print()\n",
    "var1=np.array([1,2,3,4,5],ndmin=31)\n",
    "print(var1)\n",
    "print()\n",
    "new1=var1.reshape(-1)\n",
    "print(new1)"
   ]
  },
  {
   "cell_type": "markdown",
   "id": "c62b35a8",
   "metadata": {},
   "source": [
    "# numpy arithmatic operations"
   ]
  },
  {
   "cell_type": "code",
   "execution_count": 81,
   "id": "c13132c3",
   "metadata": {},
   "outputs": [
    {
     "name": "stdout",
     "output_type": "stream",
     "text": [
      "[ 7  9 11 13 15]\n"
     ]
    }
   ],
   "source": [
    "#addition\n",
    "import numpy as np\n",
    "var1=np.array([1,2,3,4,5])\n",
    "var2=np.array([6,7,8,9,10])\n",
    "print(var1+var2)"
   ]
  },
  {
   "cell_type": "code",
   "execution_count": 82,
   "id": "fe67217a",
   "metadata": {},
   "outputs": [
    {
     "name": "stdout",
     "output_type": "stream",
     "text": [
      "[ 9  9  9 10 10]\n"
     ]
    }
   ],
   "source": [
    "#subtraction\n",
    "import numpy as np\n",
    "var1=np.array([10,11,12,14,15])\n",
    "var2=np.array([1,2,3,4,5])\n",
    "print(var1-var2)"
   ]
  },
  {
   "cell_type": "code",
   "execution_count": 83,
   "id": "dd8c9a7f",
   "metadata": {},
   "outputs": [
    {
     "name": "stdout",
     "output_type": "stream",
     "text": [
      "[10 22 36 52 70]\n"
     ]
    }
   ],
   "source": [
    "#multiplication\n",
    "import numpy as np\n",
    "var1=np.array([10,11,12,13,14])\n",
    "var2=np.array([1,2,3,4,5])\n",
    "print(var1*var2)"
   ]
  },
  {
   "cell_type": "code",
   "execution_count": 84,
   "id": "90856ab5",
   "metadata": {},
   "outputs": [
    {
     "name": "stdout",
     "output_type": "stream",
     "text": [
      "[4. 5. 6. 7. 8.]\n"
     ]
    }
   ],
   "source": [
    "#division\n",
    "import numpy as np\n",
    "var1=np.array([12,15,18,21,24])\n",
    "var2=np.array([3,3,3,3,3])\n",
    "print(var1/var2)"
   ]
  },
  {
   "cell_type": "code",
   "execution_count": 85,
   "id": "528fd526",
   "metadata": {},
   "outputs": [
    {
     "name": "stdout",
     "output_type": "stream",
     "text": [
      "[0 0 0 0 0]\n"
     ]
    }
   ],
   "source": [
    "#modulus\n",
    "import numpy as np\n",
    "var1=np.array([12,15,18,21,24])\n",
    "var2=np.array([2,3,2,3,2])\n",
    "print(var1%var2)"
   ]
  },
  {
   "cell_type": "code",
   "execution_count": 86,
   "id": "71698304",
   "metadata": {},
   "outputs": [
    {
     "name": "stdout",
     "output_type": "stream",
     "text": [
      "[    10    121   1728  28561 537824]\n"
     ]
    }
   ],
   "source": [
    "#power\n",
    "var1=np.array([1,2,3,4,5])\n",
    "var2=np.array([10,11,12,13,14])\n",
    "print(var2**var1)"
   ]
  },
  {
   "cell_type": "markdown",
   "id": "5817e71d",
   "metadata": {},
   "source": [
    "# using functions perform the arithmatic operations"
   ]
  },
  {
   "cell_type": "markdown",
   "id": "500d641c",
   "metadata": {},
   "source": []
  },
  {
   "cell_type": "code",
   "execution_count": 89,
   "id": "32a20d99",
   "metadata": {},
   "outputs": [
    {
     "name": "stdout",
     "output_type": "stream",
     "text": [
      "[ 6 11 16 21]\n",
      "\n",
      "[ 4  9 14 19]\n",
      "\n",
      "[ 5 10 15 20]\n",
      "\n",
      "[ 5. 10. 15. 20.]\n",
      "\n",
      "[0 0 0 0]\n",
      "\n",
      "[ 5 10 15 20]\n",
      "\n",
      "[0 0 0 0]\n"
     ]
    }
   ],
   "source": [
    "var1=np.array([5,10,15,20])\n",
    "var2=np.array([1,1,1,1])\n",
    "varadd=np.add(var1,var2)\n",
    "print(varadd)\n",
    "print()\n",
    "varsub=np.subtract(var1,var2)\n",
    "print(varsub)\n",
    "print()\n",
    "varmul=np.multiply(var1,var2)\n",
    "print(varmul)\n",
    "print()\n",
    "vardiv=np.divide(var1,var2)\n",
    "print(vardiv)\n",
    "print()\n",
    "varmod=np.mod(var1,var2)\n",
    "print(varmod)\n",
    "print()\n",
    "varpow=np.power(var1,var2)\n",
    "print(varpow)\n",
    "print()\n",
    "varreciprocal=np.reciprocal(var1)\n",
    "print(varreciprocal)"
   ]
  },
  {
   "cell_type": "markdown",
   "id": "0593676b",
   "metadata": {},
   "source": [
    "# for 2d arrays"
   ]
  },
  {
   "cell_type": "code",
   "execution_count": 90,
   "id": "452a9af5",
   "metadata": {},
   "outputs": [
    {
     "name": "stdout",
     "output_type": "stream",
     "text": [
      "[[ 3  5  7  9]\n",
      " [11 13 15 17]]\n"
     ]
    }
   ],
   "source": [
    "var1=np.array([[1,2,3,4],[5,6,7,8]])\n",
    "var2=np.array([[2,3,4,5],[6,7,8,9]])\n",
    "print(var1+var2)"
   ]
  },
  {
   "cell_type": "markdown",
   "id": "05538e26",
   "metadata": {},
   "source": [
    "# some more basic arithmatic functions"
   ]
  },
  {
   "cell_type": "code",
   "execution_count": 91,
   "id": "32e18ad0",
   "metadata": {},
   "outputs": [
    {
     "name": "stdout",
     "output_type": "stream",
     "text": [
      "7\n",
      "\n",
      "1\n",
      "\n",
      "6\n",
      "\n",
      "0\n",
      "\n",
      "[1.         1.41421356 1.73205081 2.         2.23606798 2.44948974\n",
      " 2.64575131]\n",
      "\n",
      "[ 0.84147098  0.90929743  0.14112001 -0.7568025  -0.95892427 -0.2794155\n",
      "  0.6569866 ]\n",
      "\n",
      "[ 0.54030231 -0.41614684 -0.9899925  -0.65364362  0.28366219  0.96017029\n",
      "  0.75390225]\n",
      "\n",
      "[ 1  3  6 10 15 21 28]\n"
     ]
    }
   ],
   "source": [
    "#max\n",
    "import numpy as np\n",
    "var=np.array([1,2,3,4,5,6,7])\n",
    "print(np.max(var))\n",
    "print()\n",
    "#min\n",
    "print(np.min(var))\n",
    "print()\n",
    "#argmax - determine pos of  max\n",
    "print(np.argmax(var))\n",
    "print()\n",
    "#argmin - determinine pos of min\n",
    "print(np.argmin(var))\n",
    "print()\n",
    "#sqrt\n",
    "print(np.sqrt(var))\n",
    "print()\n",
    "#sin\n",
    "print(np.sin(var))\n",
    "print()\n",
    "#cos\n",
    "print(np.cos(var))\n",
    "print()\n",
    "#cumsum\n",
    "print(np.cumsum(var))\n"
   ]
  },
  {
   "cell_type": "markdown",
   "id": "7f77fb91",
   "metadata": {},
   "source": [
    "# indexing in numpy arrays"
   ]
  },
  {
   "cell_type": "markdown",
   "id": "6f44ddb7",
   "metadata": {},
   "source": [
    "# 1d arrays"
   ]
  },
  {
   "cell_type": "code",
   "execution_count": 93,
   "id": "22c1cafa",
   "metadata": {},
   "outputs": [
    {
     "name": "stdout",
     "output_type": "stream",
     "text": [
      "1\n",
      "2\n",
      "7\n"
     ]
    }
   ],
   "source": [
    "import numpy as np\n",
    "arr=np.array([1,2,3,4])\n",
    "#to access first element\n",
    "print(arr[0])\n",
    "#to access second element\n",
    "print(arr[1])\n",
    "#to access third and fourth element by sum\n",
    "print(arr[2]+arr[3])"
   ]
  },
  {
   "cell_type": "markdown",
   "id": "b2c9b471",
   "metadata": {},
   "source": [
    "# 2d arrays"
   ]
  },
  {
   "cell_type": "code",
   "execution_count": 98,
   "id": "6870d614",
   "metadata": {},
   "outputs": [
    {
     "name": "stdout",
     "output_type": "stream",
     "text": [
      "2nd element 1st row : 2\n",
      "5th element 2nd row : [[ 6  7  8  9 10]]\n"
     ]
    }
   ],
   "source": [
    "import numpy as np\n",
    "var=np.array([[1,2,3,4,5],[6,7,8,9,10]])\n",
    "print(\"2nd element 1st row :\",var[0,1])\n",
    "print(\"5th element 2nd row :\",var[1:4])"
   ]
  },
  {
   "cell_type": "markdown",
   "id": "fe3f4654",
   "metadata": {},
   "source": [
    "# 3d arrays"
   ]
  },
  {
   "cell_type": "code",
   "execution_count": 107,
   "id": "f96bf1d1",
   "metadata": {},
   "outputs": [
    {
     "name": "stdout",
     "output_type": "stream",
     "text": [
      "5th element on 2nd row : 6\n",
      "5th element on 2nd row : 12\n",
      "\n",
      "12\n"
     ]
    }
   ],
   "source": [
    "import numpy as np\n",
    "var=np.array([[[1,2,3],[4,5,6]],[[7,8,9],[10,11,12]]])\n",
    "print(\"5th element on 2nd row :\",var[0,1,2])\n",
    "print(\"5th element on 2nd row :\",var[1,1,2])\n",
    "print()\n",
    "var1=np.array([[[1,2,3],[4,5,6]],[[7,8,9],[10,11,12]]])\n",
    "print(var1[1,1,2])\n"
   ]
  },
  {
   "cell_type": "markdown",
   "id": "4d5490dd",
   "metadata": {},
   "source": [
    "# -ve indexing"
   ]
  },
  {
   "cell_type": "code",
   "execution_count": 106,
   "id": "f7f74554",
   "metadata": {},
   "outputs": [
    {
     "name": "stdout",
     "output_type": "stream",
     "text": [
      "10\n",
      "3\n"
     ]
    }
   ],
   "source": [
    "var=np.array([[1,2,3,4,5],[6,7,8,9,10]])\n",
    "print(var[1,-1])\n",
    "print(var[0,-3])"
   ]
  },
  {
   "cell_type": "code",
   "execution_count": null,
   "id": "5df89ecb",
   "metadata": {},
   "outputs": [],
   "source": []
  }
 ],
 "metadata": {
  "kernelspec": {
   "display_name": "Python 3",
   "language": "python",
   "name": "python3"
  },
  "language_info": {
   "codemirror_mode": {
    "name": "ipython",
    "version": 3
   },
   "file_extension": ".py",
   "mimetype": "text/x-python",
   "name": "python",
   "nbconvert_exporter": "python",
   "pygments_lexer": "ipython3",
   "version": "3.11.1"
  },
  "vscode": {
   "interpreter": {
    "hash": "c261aea317cc0286b3b3261fbba9abdec21eaa57589985bb7a274bf54d6cc0a7"
   }
  }
 },
 "nbformat": 4,
 "nbformat_minor": 5
}
