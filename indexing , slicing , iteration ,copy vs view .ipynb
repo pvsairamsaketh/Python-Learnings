{
 "cells": [
  {
   "cell_type": "markdown",
   "id": "3b58b303",
   "metadata": {},
   "source": [
    "# Indexing"
   ]
  },
  {
   "cell_type": "markdown",
   "id": "f9100be5",
   "metadata": {},
   "source": [
    "# 1d array indexing"
   ]
  },
  {
   "cell_type": "code",
   "execution_count": 3,
   "id": "597e9ed5",
   "metadata": {},
   "outputs": [
    {
     "name": "stdout",
     "output_type": "stream",
     "text": [
      "[1 2 3 4 5]\n",
      "\n",
      "1\n",
      "2\n",
      "7\n"
     ]
    }
   ],
   "source": [
    "import numpy as np\n",
    "var=np.array([1,2,3,4,5])\n",
    "print(var)\n",
    "print()\n",
    "#to get first element of array\n",
    "print(var[0])\n",
    "#to get second element of array\n",
    "print(var[1])\n",
    "#to get 3rd and 4th element by summing them\n",
    "print(var[2]+var[3])"
   ]
  },
  {
   "cell_type": "markdown",
   "id": "a498ce06",
   "metadata": {},
   "source": [
    "# 2d array indexing"
   ]
  },
  {
   "cell_type": "code",
   "execution_count": 9,
   "id": "b8464100",
   "metadata": {},
   "outputs": [
    {
     "name": "stdout",
     "output_type": "stream",
     "text": [
      "2\n",
      "7\n",
      "9\n",
      "10\n",
      "5\n"
     ]
    }
   ],
   "source": [
    "import numpy as np\n",
    "var1=np.array([[1,2,3,4,5],[6,7,8,9,10]])\n",
    "#to find 2,7,9,10,5\n",
    "print(var1[0,1])\n",
    "print(var1[1,1])\n",
    "print(var1[1,3])\n",
    "print(var1[1,4])\n",
    "print(var1[0,4])"
   ]
  },
  {
   "cell_type": "markdown",
   "id": "9e74d436",
   "metadata": {},
   "source": [
    "# 3d array indexing"
   ]
  },
  {
   "cell_type": "code",
   "execution_count": 10,
   "id": "d3663661",
   "metadata": {},
   "outputs": [
    {
     "name": "stdout",
     "output_type": "stream",
     "text": [
      "3\n",
      "4\n",
      "5\n",
      "6\n",
      "7\n",
      "10\n",
      "11\n",
      "12\n",
      "13\n",
      "14\n",
      "15\n",
      "17\n",
      "18\n",
      "20\n"
     ]
    }
   ],
   "source": [
    "import numpy as np\n",
    "var2=np.array([[[1,2,3,4,5],[6,7,8,9,10]],[[11,12,13,14,15],[16,17,18,19,20]]])\n",
    "\n",
    "#to print values of 3,4,5,6,7,10,11,12,14,15,17,18,20\n",
    "print(var2[0,0,2])\n",
    "print(var2[0,0,3])\n",
    "print(var2[0,0,4])\n",
    "print(var2[0,1,0])\n",
    "print(var2[0,1,1])\n",
    "print(var2[0,1,4])\n",
    "print(var2[1,0,0])\n",
    "print(var2[1,0,1])\n",
    "print(var2[1,0,2])\n",
    "print(var2[1,0,3])\n",
    "print(var2[1,0,4])\n",
    "print(var2[1,1,1])\n",
    "print(var2[1,1,2])\n",
    "print(var2[1,1,4])"
   ]
  },
  {
   "cell_type": "markdown",
   "id": "b926f861",
   "metadata": {},
   "source": [
    "# negative indexing"
   ]
  },
  {
   "cell_type": "code",
   "execution_count": 13,
   "id": "72f66e06",
   "metadata": {},
   "outputs": [
    {
     "name": "stdout",
     "output_type": "stream",
     "text": [
      "last element : 10 5\n",
      "3 8\n"
     ]
    }
   ],
   "source": [
    "import numpy as np\n",
    "arr=np.array([[1,2,3,4,5],[6,7,8,9,10]])\n",
    "print(\"last element :\",arr[1,-1],arr[0,-1])\n",
    "#to print 3 and 8 using -ve indexing\n",
    "print(arr[0,-3],arr[1,-3])\n"
   ]
  },
  {
   "cell_type": "markdown",
   "id": "37e4377a",
   "metadata": {},
   "source": [
    "# Slicing"
   ]
  },
  {
   "cell_type": "markdown",
   "id": "013e86e5",
   "metadata": {},
   "source": [
    "# 1d array slicing"
   ]
  },
  {
   "cell_type": "code",
   "execution_count": 15,
   "id": "7333ea3e",
   "metadata": {},
   "outputs": [
    {
     "name": "stdout",
     "output_type": "stream",
     "text": [
      "[2 3 4 5]\n",
      "[5 6 7]\n",
      "[1 2 3 4]\n",
      "[5 6]\n",
      "[2 4]\n",
      "[1 3 5 7]\n"
     ]
    }
   ],
   "source": [
    "var=np.array([1,2,3,4,5,6,7])\n",
    "print(var[1:5])\n",
    "#result includes start\n",
    "print(var[4:])\n",
    "#result includes end\n",
    "print(var[:4])\n",
    "#negative indexing\n",
    "print(var[-3:-1])\n",
    "#step\n",
    "print(var[1:5:2])\n",
    "print(var[::2])"
   ]
  },
  {
   "cell_type": "markdown",
   "id": "309a62b2",
   "metadata": {},
   "source": [
    "# 2d array slicing"
   ]
  },
  {
   "cell_type": "code",
   "execution_count": 22,
   "id": "d42af437",
   "metadata": {},
   "outputs": [
    {
     "name": "stdout",
     "output_type": "stream",
     "text": [
      "[2 3 4]\n",
      "[2 3 4 5]\n",
      "[8 9]\n",
      "[ 7  8  9 10]\n",
      "[2 7]\n",
      "[3 8]\n"
     ]
    }
   ],
   "source": [
    "var1=np.array([[1,2,3,4,5],[6,7,8,9,10]])\n",
    "print(var1[0,1:4])\n",
    "print(var1[0,1:])\n",
    "print(var1[1,2:4])\n",
    "print(var1[1,1:])\n",
    "print(var1[0:2,1])\n",
    "print(var1[0:3,2])"
   ]
  },
  {
   "cell_type": "markdown",
   "id": "9a505e05",
   "metadata": {},
   "source": [
    "# revision for indexing and slicing"
   ]
  },
  {
   "cell_type": "code",
   "execution_count": 26,
   "id": "3c894ffc",
   "metadata": {},
   "outputs": [
    {
     "name": "stdout",
     "output_type": "stream",
     "text": [
      "8\n",
      "8\n",
      "\n",
      "8\n",
      "7\n",
      "\n",
      "3\n",
      "7\n",
      "5\n"
     ]
    }
   ],
   "source": [
    "        #for indexing\n",
    "#1d numpy array\n",
    "var=np.array([9,8,7,6])\n",
    "print(var[1])\n",
    "print(var[-3])\n",
    "print()\n",
    "#2d numpy array\n",
    "var1=np.array([[9,8,7],[4,5,6]])\n",
    "print(var1[0,1])\n",
    "print(var1[0,2])\n",
    "print()\n",
    "#for 3d numpy array\n",
    "var2=np.array([[[9,8,7],[4,5,6]]])\n",
    "print(var2.ndim)\n",
    "#to get 7,5\n",
    "print(var2[0,0,2])\n",
    "print(var2[0,1,1])"
   ]
  },
  {
   "cell_type": "code",
   "execution_count": 28,
   "id": "e0cbf259",
   "metadata": {},
   "outputs": [
    {
     "name": "stdout",
     "output_type": "stream",
     "text": [
      "[1 2 3 4 5 6]\n",
      "\n",
      "[2 3 4 5]\n",
      "[2 3 4 5 6]\n",
      "[1 2 3 4 5]\n",
      "[1 3 5]\n",
      "[2 4]\n",
      "[[ 1  2  3  4  5]\n",
      " [ 9  8  7  6  5]\n",
      " [10 11 12 13 14]]\n",
      "\n",
      "[8 7 6 5]\n",
      "[10 11 12 13 14]\n"
     ]
    }
   ],
   "source": [
    "     #for slicing\n",
    "#for 1d array\n",
    "var=np.array([1,2,3,4,5,6])\n",
    "print(var)\n",
    "print()\n",
    "print(var[1:5])\n",
    "print(var[1:])\n",
    "print(var[:5])\n",
    "#step\n",
    "print(var[::2])\n",
    "print(var[1:5:2])\n",
    "#for 2d array\n",
    "var1=np.array([[1,2,3,4,5],[9,8,7,6,5],[10,11,12,13,14]])\n",
    "print(var1)\n",
    "print()\n",
    "#to print 8 7 6 5\n",
    "#to print 10 11 12 13 14\n",
    "print(var1[1,1:5])\n",
    "print(var1[2,0:])"
   ]
  },
  {
   "cell_type": "code",
   "execution_count": null,
   "id": "d7fc342c",
   "metadata": {},
   "outputs": [],
   "source": []
  }
 ],
 "metadata": {
  "kernelspec": {
   "display_name": "Python 3 (ipykernel)",
   "language": "python",
   "name": "python3"
  },
  "language_info": {
   "codemirror_mode": {
    "name": "ipython",
    "version": 3
   },
   "file_extension": ".py",
   "mimetype": "text/x-python",
   "name": "python",
   "nbconvert_exporter": "python",
   "pygments_lexer": "ipython3",
   "version": "3.9.13"
  }
 },
 "nbformat": 4,
 "nbformat_minor": 5
}
